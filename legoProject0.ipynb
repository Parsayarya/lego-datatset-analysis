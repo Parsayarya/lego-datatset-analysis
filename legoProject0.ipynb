{
  "nbformat": 4,
  "nbformat_minor": 0,
  "metadata": {
    "colab": {
      "name": "legoProject0.ipynb",
      "provenance": [],
      "collapsed_sections": [],
      "authorship_tag": "ABX9TyM4IHNl8Ya6x/Xp6+qqBt5B",
      "include_colab_link": true
    },
    "kernelspec": {
      "name": "python3",
      "display_name": "Python 3"
    },
    "language_info": {
      "name": "python"
    }
  },
  "cells": [
    {
      "cell_type": "markdown",
      "metadata": {
        "id": "view-in-github",
        "colab_type": "text"
      },
      "source": [
        "<a href=\"https://colab.research.google.com/github/Parsayarya/lego-datatset-analysis/blob/main/legoProject0.ipynb\" target=\"_parent\"><img src=\"https://colab.research.google.com/assets/colab-badge.svg\" alt=\"Open In Colab\"/></a>"
      ]
    },
    {
      "cell_type": "code",
      "metadata": {
        "id": "B1ZQ8uyDKp-E"
      },
      "source": [
        "import numpy as np\n",
        "import pandas as pd"
      ],
      "execution_count": null,
      "outputs": []
    },
    {
      "cell_type": "code",
      "metadata": {
        "id": "hXQ60UL0NF0R",
        "colab": {
          "base_uri": "https://localhost:8080/"
        },
        "outputId": "deaffa31-3535-4b03-a7af-2cbe1ea12ac6"
      },
      "source": [
        "df1 = pd.read_csv('/content/colors.csv')\n",
        "df2 = pd.read_csv('/content/sets.csv')\n",
        "print(df1.head(10))\n",
        "print('\\r\\n')\n",
        "print(df2.head(10))"
      ],
      "execution_count": null,
      "outputs": [
        {
          "output_type": "stream",
          "name": "stdout",
          "text": [
            "   id            name     rgb is_trans\n",
            "0  -1         Unknown  0033B2        f\n",
            "1   0           Black  05131D        f\n",
            "2   1            Blue  0055BF        f\n",
            "3   2           Green  237841        f\n",
            "4   3  Dark Turquoise  008F9B        f\n",
            "5   4             Red  C91A09        f\n",
            "6   5       Dark Pink  C870A0        f\n",
            "7   6           Brown  583927        f\n",
            "8   7      Light Gray  9BA19D        f\n",
            "9   8       Dark Gray  6D6E5C        f\n",
            "\r\n",
            "\n",
            "  set_num                          name  year  theme_id  num_parts\n",
            "0    00-1               Weetabix Castle  1970       414        471\n",
            "1  0011-2             Town Mini-Figures  1978        84         12\n",
            "2  0011-3    Castle 2 for 1 Bonus Offer  1987       199          2\n",
            "3  0012-1            Space Mini-Figures  1979       143         12\n",
            "4  0013-1            Space Mini-Figures  1979       143         12\n",
            "5  0014-1            Space Mini-Figures  1979       143         12\n",
            "6  0015-1            Space Mini-Figures  1979       143         18\n",
            "7  0016-1           Castle Mini Figures  1978       186         15\n",
            "8    00-2  Weetabix Promotional House 1  1976       413        147\n",
            "9    00-3  Weetabix Promotional House 2  1976       413        149\n"
          ]
        }
      ]
    },
    {
      "cell_type": "code",
      "metadata": {
        "colab": {
          "base_uri": "https://localhost:8080/"
        },
        "id": "IqB8Mm3NV5bl",
        "outputId": "e6a89948-40fd-4feb-8ae9-dfd819e7cdae"
      },
      "source": [
        "num_colors = df1[['name']].name.nunique()\n",
        "print(num_colors)\n",
        "df.to_csv('/content/df.csv')"
      ],
      "execution_count": null,
      "outputs": [
        {
          "output_type": "stream",
          "name": "stdout",
          "text": [
            "135\n"
          ]
        }
      ]
    },
    {
      "cell_type": "code",
      "metadata": {
        "id": "0F9_A5EDZBjz"
      },
      "source": [
        "import seaborn as sns\n",
        "import matplotlib.pyplot as plt"
      ],
      "execution_count": null,
      "outputs": []
    },
    {
      "cell_type": "code",
      "metadata": {
        "colab": {
          "base_uri": "https://localhost:8080/",
          "height": 380
        },
        "id": "8FQOh0wKdCEB",
        "outputId": "acbca682-692f-4136-ce0e-ba65659aec0d"
      },
      "source": [
        "df5 = pd.read_csv('/content/df.csv')\n",
        "df6 = df5.head(5)\n",
        "print(df6)\n",
        "df6.plot(x = 'name',y = 'id')\n",
        "plt.show()"
      ],
      "execution_count": null,
      "outputs": [
        {
          "output_type": "stream",
          "name": "stdout",
          "text": [
            "           name   id\n",
            "0          Aqua  118\n",
            "1         Black    0\n",
            "2          Blue    1\n",
            "3   Blue-Violet  112\n",
            "4  Bright Green   10\n"
          ]
        },
        {
          "output_type": "display_data",
          "data": {
            "image/png": "[encoded data removed]",
            "text/plain": [
              "<Figure size 432x288 with 1 Axes>"
            ]
          },
          "metadata": {
            "needs_background": "light"
          }
        }
      ]
    },
    {
      "cell_type": "code",
      "metadata": {
        "colab": {
          "base_uri": "https://localhost:8080/",
          "height": 281
        },
        "id": "gZREDUbUJLRA",
        "outputId": "4b32a88b-9b78-454f-db31-3a43a5ac5ef6"
      },
      "source": [
        "df1['is_trans'].plot.kde()"
      ],
      "execution_count": null,
      "outputs": [
        {
          "output_type": "execute_result",
          "data": {
            "text/plain": [
              "<matplotlib.axes._subplots.AxesSubplot at 0x7f5c1c23e050>"
            ]
          },
          "metadata": {},
          "execution_count": 52
        },
        {
          "output_type": "display_data",
          "data": {
            "image/png": "[encoded data removed]",
            "text/plain": [
              "<Figure size 432x288 with 1 Axes>"
            ]
          },
          "metadata": {
            "needs_background": "light"
          }
        }
      ]
    },
    {
      "cell_type": "code",
      "metadata": {
        "colab": {
          "base_uri": "https://localhost:8080/",
          "height": 446
        },
        "id": "sRSS4NxxLcAX",
        "outputId": "9bddef58-951e-4de6-f51a-8f45d05b69be"
      },
      "source": [
        "df7 = df2.groupby(\"year\").agg({'num_parts' : np.average})\n",
        "df7"
      ],
      "execution_count": null,
      "outputs": [
        {
          "output_type": "execute_result",
          "data": {
            "text/html": [
              "<div>\n",
              "<style scoped>\n",
              "    .dataframe tbody tr th:only-of-type {\n",
              "        vertical-align: middle;\n",
              "    }\n",
              "\n",
              "    .dataframe tbody tr th {\n",
              "        vertical-align: top;\n",
              "    }\n",
              "\n",
              "    .dataframe thead th {\n",
              "        text-align: right;\n",
              "    }\n",
              "</style>\n",
              "<table border=\"1\" class=\"dataframe\">\n",
              "  <thead>\n",
              "    <tr style=\"text-align: right;\">\n",
              "      <th></th>\n",
              "      <th>num_parts</th>\n",
              "    </tr>\n",
              "    <tr>\n",
              "      <th>year</th>\n",
              "      <th></th>\n",
              "    </tr>\n",
              "  </thead>\n",
              "  <tbody>\n",
              "    <tr>\n",
              "      <th>1950</th>\n",
              "      <td>10.142857</td>\n",
              "    </tr>\n",
              "    <tr>\n",
              "      <th>1953</th>\n",
              "      <td>16.500000</td>\n",
              "    </tr>\n",
              "    <tr>\n",
              "      <th>1954</th>\n",
              "      <td>12.357143</td>\n",
              "    </tr>\n",
              "    <tr>\n",
              "      <th>1955</th>\n",
              "      <td>36.857143</td>\n",
              "    </tr>\n",
              "    <tr>\n",
              "      <th>1956</th>\n",
              "      <td>18.500000</td>\n",
              "    </tr>\n",
              "    <tr>\n",
              "      <th>...</th>\n",
              "      <td>...</td>\n",
              "    </tr>\n",
              "    <tr>\n",
              "      <th>2013</th>\n",
              "      <td>181.359191</td>\n",
              "    </tr>\n",
              "    <tr>\n",
              "      <th>2014</th>\n",
              "      <td>169.320280</td>\n",
              "    </tr>\n",
              "    <tr>\n",
              "      <th>2015</th>\n",
              "      <td>200.223881</td>\n",
              "    </tr>\n",
              "    <tr>\n",
              "      <th>2016</th>\n",
              "      <td>248.945813</td>\n",
              "    </tr>\n",
              "    <tr>\n",
              "      <th>2017</th>\n",
              "      <td>300.121277</td>\n",
              "    </tr>\n",
              "  </tbody>\n",
              "</table>\n",
              "<p>66 rows × 1 columns</p>\n",
              "</div>"
            ],
            "text/plain": [
              "       num_parts\n",
              "year            \n",
              "1950   10.142857\n",
              "1953   16.500000\n",
              "1954   12.357143\n",
              "1955   36.857143\n",
              "1956   18.500000\n",
              "...          ...\n",
              "2013  181.359191\n",
              "2014  169.320280\n",
              "2015  200.223881\n",
              "2016  248.945813\n",
              "2017  300.121277\n",
              "\n",
              "[66 rows x 1 columns]"
            ]
          },
          "metadata": {},
          "execution_count": 65
        }
      ]
    },
    {
      "cell_type": "code",
      "metadata": {
        "colab": {
          "base_uri": "https://localhost:8080/",
          "height": 279
        },
        "id": "xi9_nCGlMGZH",
        "outputId": "5915b1a1-3989-4c89-b80b-0377cb1f5583"
      },
      "source": [
        "parts_by_year = df2[['year','num_parts']].groupby('year', as_index=False).mean().round(2)\n",
        "plt.plot('year', 'num_parts', data = parts_by_year)\n",
        "plt.xlabel('Year')\n",
        "plt.ylabel('Avg')\n",
        "plt.show()"
      ],
      "execution_count": null,
      "outputs": [
        {
          "output_type": "display_data",
          "data": {
            "image/png": "[encoded data removed]",
            "text/plain": [
              "<Figure size 432x288 with 1 Axes>"
            ]
          },
          "metadata": {
            "needs_background": "light"
          }
        }
      ]
    },
    {
      "cell_type": "code",
      "metadata": {
        "colab": {
          "base_uri": "https://localhost:8080/"
        },
        "id": "IDS0QUPUOB_n",
        "outputId": "52e399ef-9cdf-4b27-c722-50f64e872042"
      },
      "source": [
        "df8 = df2[['year','theme_id']].groupby('year').theme_id.nunique()\n",
        "df8.head(10)"
      ],
      "execution_count": null,
      "outputs": [
        {
          "output_type": "execute_result",
          "data": {
            "text/plain": [
              "year\n",
              "1950    2\n",
              "1953    1\n",
              "1954    2\n",
              "1955    4\n",
              "1956    3\n",
              "1957    4\n",
              "1958    3\n",
              "1959    3\n",
              "1960    3\n",
              "1961    6\n",
              "Name: theme_id, dtype: int64"
            ]
          },
          "metadata": {},
          "execution_count": 60
        }
      ]
    }
  ]
}